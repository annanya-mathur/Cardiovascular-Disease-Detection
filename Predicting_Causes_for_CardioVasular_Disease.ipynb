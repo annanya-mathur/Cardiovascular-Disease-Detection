{
  "nbformat": 4,
  "nbformat_minor": 0,
  "metadata": {
    "colab": {
      "name": "Predicting_Causes_for_CardioVasular_Disease.ipynb",
      "provenance": [],
      "collapsed_sections": [],
      "authorship_tag": "ABX9TyN6OIqJJJXYPFmvdwIwObgj",
      "include_colab_link": true
    },
    "kernelspec": {
      "name": "python3",
      "display_name": "Python 3"
    },
    "language_info": {
      "name": "python"
    }
  },
  "cells": [
    {
      "cell_type": "markdown",
      "metadata": {
        "id": "view-in-github",
        "colab_type": "text"
      },
      "source": [
        "<a href=\"https://colab.research.google.com/github/annanya-mathur/Cardiovascular-Disease-Detection/blob/main/Predicting_Causes_for_CardioVasular_Disease.ipynb\" target=\"_parent\"><img src=\"https://colab.research.google.com/assets/colab-badge.svg\" alt=\"Open In Colab\"/></a>"
      ]
    },
    {
      "cell_type": "markdown",
      "metadata": {
        "id": "HPMJmC5LuZMz"
      },
      "source": [
        "  ATTRIBUTE INFO- \n",
        "      1. age       \n",
        "      2. sex       \n",
        "      3. chest pain type  (4 values)       \n",
        "      4. resting blood pressure  \n",
        "      5. serum cholestoral in mg/dl      \n",
        "      6. fasting blood sugar > 120 mg/dl       \n",
        "      7. resting electrocardiographic results  (values 0,1,2) \n",
        "      8. maximum heart rate achieved  \n",
        "      9. exercise induced angina    \n",
        "     10. oldpeak = ST depression induced by exercise relative to rest   \n",
        "     11. the slope of the peak exercise ST segment     \n",
        "     12. number of major vessels (0-3) colored by flourosopy        \n",
        "     13.  thal: 3 = normal; 6 = fixed defect; 7 = reversable defect \n"
      ]
    },
    {
      "cell_type": "code",
      "metadata": {
        "id": "a_P3nMA_uiCm"
      },
      "source": [
        "import numpy as np\n",
        "import pandas as pd\n",
        "import matplotlib.pyplot as pt\n",
        "import seaborn as sb"
      ],
      "execution_count": 1,
      "outputs": []
    },
    {
      "cell_type": "code",
      "metadata": {
        "id": "Yay8_Yxb5o05"
      },
      "source": [
        "from google.colab import files"
      ],
      "execution_count": 3,
      "outputs": []
    },
    {
      "cell_type": "code",
      "metadata": {
        "colab": {
          "resources": {
            "http://localhost:8080/nbextensions/google.colab/files.js": {
              "data": "Ly8gQ29weXJpZ2h0IDIwMTcgR29vZ2xlIExMQwovLwovLyBMaWNlbnNlZCB1bmRlciB0aGUgQXBhY2hlIExpY2Vuc2UsIFZlcnNpb24gMi4wICh0aGUgIkxpY2Vuc2UiKTsKLy8geW91IG1heSBub3QgdXNlIHRoaXMgZmlsZSBleGNlcHQgaW4gY29tcGxpYW5jZSB3aXRoIHRoZSBMaWNlbnNlLgovLyBZb3UgbWF5IG9idGFpbiBhIGNvcHkgb2YgdGhlIExpY2Vuc2UgYXQKLy8KLy8gICAgICBodHRwOi8vd3d3LmFwYWNoZS5vcmcvbGljZW5zZXMvTElDRU5TRS0yLjAKLy8KLy8gVW5sZXNzIHJlcXVpcmVkIGJ5IGFwcGxpY2FibGUgbGF3IG9yIGFncmVlZCB0byBpbiB3cml0aW5nLCBzb2Z0d2FyZQovLyBkaXN0cmlidXRlZCB1bmRlciB0aGUgTGljZW5zZSBpcyBkaXN0cmlidXRlZCBvbiBhbiAiQVMgSVMiIEJBU0lTLAovLyBXSVRIT1VUIFdBUlJBTlRJRVMgT1IgQ09ORElUSU9OUyBPRiBBTlkgS0lORCwgZWl0aGVyIGV4cHJlc3Mgb3IgaW1wbGllZC4KLy8gU2VlIHRoZSBMaWNlbnNlIGZvciB0aGUgc3BlY2lmaWMgbGFuZ3VhZ2UgZ292ZXJuaW5nIHBlcm1pc3Npb25zIGFuZAovLyBsaW1pdGF0aW9ucyB1bmRlciB0aGUgTGljZW5zZS4KCi8qKgogKiBAZmlsZW92ZXJ2aWV3IEhlbHBlcnMgZm9yIGdvb2dsZS5jb2xhYiBQeXRob24gbW9kdWxlLgogKi8KKGZ1bmN0aW9uKHNjb3BlKSB7CmZ1bmN0aW9uIHNwYW4odGV4dCwgc3R5bGVBdHRyaWJ1dGVzID0ge30pIHsKICBjb25zdCBlbGVtZW50ID0gZG9jdW1lbnQuY3JlYXRlRWxlbWVudCgnc3BhbicpOwogIGVsZW1lbnQudGV4dENvbnRlbnQgPSB0ZXh0OwogIGZvciAoY29uc3Qga2V5IG9mIE9iamVjdC5rZXlzKHN0eWxlQXR0cmlidXRlcykpIHsKICAgIGVsZW1lbnQuc3R5bGVba2V5XSA9IHN0eWxlQXR0cmlidXRlc1trZXldOwogIH0KICByZXR1cm4gZWxlbWVudDsKfQoKLy8gTWF4IG51bWJlciBvZiBieXRlcyB3aGljaCB3aWxsIGJlIHVwbG9hZGVkIGF0IGEgdGltZS4KY29uc3QgTUFYX1BBWUxPQURfU0laRSA9IDEwMCAqIDEwMjQ7CgpmdW5jdGlvbiBfdXBsb2FkRmlsZXMoaW5wdXRJZCwgb3V0cHV0SWQpIHsKICBjb25zdCBzdGVwcyA9IHVwbG9hZEZpbGVzU3RlcChpbnB1dElkLCBvdXRwdXRJZCk7CiAgY29uc3Qgb3V0cHV0RWxlbWVudCA9IGRvY3VtZW50LmdldEVsZW1lbnRCeUlkKG91dHB1dElkKTsKICAvLyBDYWNoZSBzdGVwcyBvbiB0aGUgb3V0cHV0RWxlbWVudCB0byBtYWtlIGl0IGF2YWlsYWJsZSBmb3IgdGhlIG5leHQgY2FsbAogIC8vIHRvIHVwbG9hZEZpbGVzQ29udGludWUgZnJvbSBQeXRob24uCiAgb3V0cHV0RWxlbWVudC5zdGVwcyA9IHN0ZXBzOwoKICByZXR1cm4gX3VwbG9hZEZpbGVzQ29udGludWUob3V0cHV0SWQpOwp9CgovLyBUaGlzIGlzIHJvdWdobHkgYW4gYXN5bmMgZ2VuZXJhdG9yIChub3Qgc3VwcG9ydGVkIGluIHRoZSBicm93c2VyIHlldCksCi8vIHdoZXJlIHRoZXJlIGFyZSBtdWx0aXBsZSBhc3luY2hyb25vdXMgc3RlcHMgYW5kIHRoZSBQeXRob24gc2lkZSBpcyBnb2luZwovLyB0byBwb2xsIGZvciBjb21wbGV0aW9uIG9mIGVhY2ggc3RlcC4KLy8gVGhpcyB1c2VzIGEgUHJvbWlzZSB0byBibG9jayB0aGUgcHl0aG9uIHNpZGUgb24gY29tcGxldGlvbiBvZiBlYWNoIHN0ZXAsCi8vIHRoZW4gcGFzc2VzIHRoZSByZXN1bHQgb2YgdGhlIHByZXZpb3VzIHN0ZXAgYXMgdGhlIGlucHV0IHRvIHRoZSBuZXh0IHN0ZXAuCmZ1bmN0aW9uIF91cGxvYWRGaWxlc0NvbnRpbnVlKG91dHB1dElkKSB7CiAgY29uc3Qgb3V0cHV0RWxlbWVudCA9IGRvY3VtZW50LmdldEVsZW1lbnRCeUlkKG91dHB1dElkKTsKICBjb25zdCBzdGVwcyA9IG91dHB1dEVsZW1lbnQuc3RlcHM7CgogIGNvbnN0IG5leHQgPSBzdGVwcy5uZXh0KG91dHB1dEVsZW1lbnQubGFzdFByb21pc2VWYWx1ZSk7CiAgcmV0dXJuIFByb21pc2UucmVzb2x2ZShuZXh0LnZhbHVlLnByb21pc2UpLnRoZW4oKHZhbHVlKSA9PiB7CiAgICAvLyBDYWNoZSB0aGUgbGFzdCBwcm9taXNlIHZhbHVlIHRvIG1ha2UgaXQgYXZhaWxhYmxlIHRvIHRoZSBuZXh0CiAgICAvLyBzdGVwIG9mIHRoZSBnZW5lcmF0b3IuCiAgICBvdXRwdXRFbGVtZW50Lmxhc3RQcm9taXNlVmFsdWUgPSB2YWx1ZTsKICAgIHJldHVybiBuZXh0LnZhbHVlLnJlc3BvbnNlOwogIH0pOwp9CgovKioKICogR2VuZXJhdG9yIGZ1bmN0aW9uIHdoaWNoIGlzIGNhbGxlZCBiZXR3ZWVuIGVhY2ggYXN5bmMgc3RlcCBvZiB0aGUgdXBsb2FkCiAqIHByb2Nlc3MuCiAqIEBwYXJhbSB7c3RyaW5nfSBpbnB1dElkIEVsZW1lbnQgSUQgb2YgdGhlIGlucHV0IGZpbGUgcGlja2VyIGVsZW1lbnQuCiAqIEBwYXJhbSB7c3RyaW5nfSBvdXRwdXRJZCBFbGVtZW50IElEIG9mIHRoZSBvdXRwdXQgZGlzcGxheS4KICogQHJldHVybiB7IUl0ZXJhYmxlPCFPYmplY3Q+fSBJdGVyYWJsZSBvZiBuZXh0IHN0ZXBzLgogKi8KZnVuY3Rpb24qIHVwbG9hZEZpbGVzU3RlcChpbnB1dElkLCBvdXRwdXRJZCkgewogIGNvbnN0IGlucHV0RWxlbWVudCA9IGRvY3VtZW50LmdldEVsZW1lbnRCeUlkKGlucHV0SWQpOwogIGlucHV0RWxlbWVudC5kaXNhYmxlZCA9IGZhbHNlOwoKICBjb25zdCBvdXRwdXRFbGVtZW50ID0gZG9jdW1lbnQuZ2V0RWxlbWVudEJ5SWQob3V0cHV0SWQpOwogIG91dHB1dEVsZW1lbnQuaW5uZXJIVE1MID0gJyc7CgogIGNvbnN0IHBpY2tlZFByb21pc2UgPSBuZXcgUHJvbWlzZSgocmVzb2x2ZSkgPT4gewogICAgaW5wdXRFbGVtZW50LmFkZEV2ZW50TGlzdGVuZXIoJ2NoYW5nZScsIChlKSA9PiB7CiAgICAgIHJlc29sdmUoZS50YXJnZXQuZmlsZXMpOwogICAgfSk7CiAgfSk7CgogIGNvbnN0IGNhbmNlbCA9IGRvY3VtZW50LmNyZWF0ZUVsZW1lbnQoJ2J1dHRvbicpOwogIGlucHV0RWxlbWVudC5wYXJlbnRFbGVtZW50LmFwcGVuZENoaWxkKGNhbmNlbCk7CiAgY2FuY2VsLnRleHRDb250ZW50ID0gJ0NhbmNlbCB1cGxvYWQnOwogIGNvbnN0IGNhbmNlbFByb21pc2UgPSBuZXcgUHJvbWlzZSgocmVzb2x2ZSkgPT4gewogICAgY2FuY2VsLm9uY2xpY2sgPSAoKSA9PiB7CiAgICAgIHJlc29sdmUobnVsbCk7CiAgICB9OwogIH0pOwoKICAvLyBXYWl0IGZvciB0aGUgdXNlciB0byBwaWNrIHRoZSBmaWxlcy4KICBjb25zdCBmaWxlcyA9IHlpZWxkIHsKICAgIHByb21pc2U6IFByb21pc2UucmFjZShbcGlja2VkUHJvbWlzZSwgY2FuY2VsUHJvbWlzZV0pLAogICAgcmVzcG9uc2U6IHsKICAgICAgYWN0aW9uOiAnc3RhcnRpbmcnLAogICAgfQogIH07CgogIGNhbmNlbC5yZW1vdmUoKTsKCiAgLy8gRGlzYWJsZSB0aGUgaW5wdXQgZWxlbWVudCBzaW5jZSBmdXJ0aGVyIHBpY2tzIGFyZSBub3QgYWxsb3dlZC4KICBpbnB1dEVsZW1lbnQuZGlzYWJsZWQgPSB0cnVlOwoKICBpZiAoIWZpbGVzKSB7CiAgICByZXR1cm4gewogICAgICByZXNwb25zZTogewogICAgICAgIGFjdGlvbjogJ2NvbXBsZXRlJywKICAgICAgfQogICAgfTsKICB9CgogIGZvciAoY29uc3QgZmlsZSBvZiBmaWxlcykgewogICAgY29uc3QgbGkgPSBkb2N1bWVudC5jcmVhdGVFbGVtZW50KCdsaScpOwogICAgbGkuYXBwZW5kKHNwYW4oZmlsZS5uYW1lLCB7Zm9udFdlaWdodDogJ2JvbGQnfSkpOwogICAgbGkuYXBwZW5kKHNwYW4oCiAgICAgICAgYCgke2ZpbGUudHlwZSB8fCAnbi9hJ30pIC0gJHtmaWxlLnNpemV9IGJ5dGVzLCBgICsKICAgICAgICBgbGFzdCBtb2RpZmllZDogJHsKICAgICAgICAgICAgZmlsZS5sYXN0TW9kaWZpZWREYXRlID8gZmlsZS5sYXN0TW9kaWZpZWREYXRlLnRvTG9jYWxlRGF0ZVN0cmluZygpIDoKICAgICAgICAgICAgICAgICAgICAgICAgICAgICAgICAgICAgJ24vYSd9IC0gYCkpOwogICAgY29uc3QgcGVyY2VudCA9IHNwYW4oJzAlIGRvbmUnKTsKICAgIGxpLmFwcGVuZENoaWxkKHBlcmNlbnQpOwoKICAgIG91dHB1dEVsZW1lbnQuYXBwZW5kQ2hpbGQobGkpOwoKICAgIGNvbnN0IGZpbGVEYXRhUHJvbWlzZSA9IG5ldyBQcm9taXNlKChyZXNvbHZlKSA9PiB7CiAgICAgIGNvbnN0IHJlYWRlciA9IG5ldyBGaWxlUmVhZGVyKCk7CiAgICAgIHJlYWRlci5vbmxvYWQgPSAoZSkgPT4gewogICAgICAgIHJlc29sdmUoZS50YXJnZXQucmVzdWx0KTsKICAgICAgfTsKICAgICAgcmVhZGVyLnJlYWRBc0FycmF5QnVmZmVyKGZpbGUpOwogICAgfSk7CiAgICAvLyBXYWl0IGZvciB0aGUgZGF0YSB0byBiZSByZWFkeS4KICAgIGxldCBmaWxlRGF0YSA9IHlpZWxkIHsKICAgICAgcHJvbWlzZTogZmlsZURhdGFQcm9taXNlLAogICAgICByZXNwb25zZTogewogICAgICAgIGFjdGlvbjogJ2NvbnRpbnVlJywKICAgICAgfQogICAgfTsKCiAgICAvLyBVc2UgYSBjaHVua2VkIHNlbmRpbmcgdG8gYXZvaWQgbWVzc2FnZSBzaXplIGxpbWl0cy4gU2VlIGIvNjIxMTU2NjAuCiAgICBsZXQgcG9zaXRpb24gPSAwOwogICAgd2hpbGUgKHBvc2l0aW9uIDwgZmlsZURhdGEuYnl0ZUxlbmd0aCkgewogICAgICBjb25zdCBsZW5ndGggPSBNYXRoLm1pbihmaWxlRGF0YS5ieXRlTGVuZ3RoIC0gcG9zaXRpb24sIE1BWF9QQVlMT0FEX1NJWkUpOwogICAgICBjb25zdCBjaHVuayA9IG5ldyBVaW50OEFycmF5KGZpbGVEYXRhLCBwb3NpdGlvbiwgbGVuZ3RoKTsKICAgICAgcG9zaXRpb24gKz0gbGVuZ3RoOwoKICAgICAgY29uc3QgYmFzZTY0ID0gYnRvYShTdHJpbmcuZnJvbUNoYXJDb2RlLmFwcGx5KG51bGwsIGNodW5rKSk7CiAgICAgIHlpZWxkIHsKICAgICAgICByZXNwb25zZTogewogICAgICAgICAgYWN0aW9uOiAnYXBwZW5kJywKICAgICAgICAgIGZpbGU6IGZpbGUubmFtZSwKICAgICAgICAgIGRhdGE6IGJhc2U2NCwKICAgICAgICB9LAogICAgICB9OwogICAgICBwZXJjZW50LnRleHRDb250ZW50ID0KICAgICAgICAgIGAke01hdGgucm91bmQoKHBvc2l0aW9uIC8gZmlsZURhdGEuYnl0ZUxlbmd0aCkgKiAxMDApfSUgZG9uZWA7CiAgICB9CiAgfQoKICAvLyBBbGwgZG9uZS4KICB5aWVsZCB7CiAgICByZXNwb25zZTogewogICAgICBhY3Rpb246ICdjb21wbGV0ZScsCiAgICB9CiAgfTsKfQoKc2NvcGUuZ29vZ2xlID0gc2NvcGUuZ29vZ2xlIHx8IHt9OwpzY29wZS5nb29nbGUuY29sYWIgPSBzY29wZS5nb29nbGUuY29sYWIgfHwge307CnNjb3BlLmdvb2dsZS5jb2xhYi5fZmlsZXMgPSB7CiAgX3VwbG9hZEZpbGVzLAogIF91cGxvYWRGaWxlc0NvbnRpbnVlLAp9Owp9KShzZWxmKTsK",
              "ok": true,
              "headers": [
                [
                  "content-type",
                  "application/javascript"
                ]
              ],
              "status": 200,
              "status_text": ""
            }
          },
          "base_uri": "https://localhost:8080/",
          "height": 73
        },
        "id": "PUrrGpeq57Yt",
        "outputId": "253bb291-780f-4961-dae6-309812a77f98"
      },
      "source": [
        "uploaded=files.upload()"
      ],
      "execution_count": 61,
      "outputs": [
        {
          "output_type": "display_data",
          "data": {
            "text/html": [
              "\n",
              "     <input type=\"file\" id=\"files-157500b4-ec1f-4725-9d17-74ecfc1e5c8a\" name=\"files[]\" multiple disabled\n",
              "        style=\"border:none\" />\n",
              "     <output id=\"result-157500b4-ec1f-4725-9d17-74ecfc1e5c8a\">\n",
              "      Upload widget is only available when the cell has been executed in the\n",
              "      current browser session. Please rerun this cell to enable.\n",
              "      </output>\n",
              "      <script src=\"/nbextensions/google.colab/files.js\"></script> "
            ],
            "text/plain": [
              "<IPython.core.display.HTML object>"
            ]
          },
          "metadata": {
            "tags": []
          }
        },
        {
          "output_type": "stream",
          "text": [
            "Saving cardio-statlog_csv.csv to cardio-statlog_csv (2).csv\n"
          ],
          "name": "stdout"
        }
      ]
    },
    {
      "cell_type": "code",
      "metadata": {
        "colab": {
          "base_uri": "https://localhost:8080/",
          "height": 363
        },
        "id": "04olE5Ex6H3Q",
        "outputId": "983df366-faca-47df-8fcd-585a51bbf843"
      },
      "source": [
        "dataframe=pd.read_csv('cardio-statlog_csv (1).csv')\n",
        "dataframe.head(10)"
      ],
      "execution_count": 62,
      "outputs": [
        {
          "output_type": "execute_result",
          "data": {
            "text/html": [
              "<div>\n",
              "<style scoped>\n",
              "    .dataframe tbody tr th:only-of-type {\n",
              "        vertical-align: middle;\n",
              "    }\n",
              "\n",
              "    .dataframe tbody tr th {\n",
              "        vertical-align: top;\n",
              "    }\n",
              "\n",
              "    .dataframe thead th {\n",
              "        text-align: right;\n",
              "    }\n",
              "</style>\n",
              "<table border=\"1\" class=\"dataframe\">\n",
              "  <thead>\n",
              "    <tr style=\"text-align: right;\">\n",
              "      <th></th>\n",
              "      <th>age</th>\n",
              "      <th>sex</th>\n",
              "      <th>chest</th>\n",
              "      <th>resting_blood_pressure</th>\n",
              "      <th>serum_cholestoral</th>\n",
              "      <th>fasting_blood_sugar</th>\n",
              "      <th>resting_electrocardiographic_results</th>\n",
              "      <th>maximum_heart_rate_achieved</th>\n",
              "      <th>exercise_induced_angina</th>\n",
              "      <th>oldpeak</th>\n",
              "      <th>slope</th>\n",
              "      <th>number_of_major_vessels</th>\n",
              "      <th>thal</th>\n",
              "      <th>cardio</th>\n",
              "      <th>diabeties</th>\n",
              "    </tr>\n",
              "  </thead>\n",
              "  <tbody>\n",
              "    <tr>\n",
              "      <th>0</th>\n",
              "      <td>70</td>\n",
              "      <td>1</td>\n",
              "      <td>4</td>\n",
              "      <td>130</td>\n",
              "      <td>322</td>\n",
              "      <td>0</td>\n",
              "      <td>2</td>\n",
              "      <td>109</td>\n",
              "      <td>0</td>\n",
              "      <td>2.4</td>\n",
              "      <td>2</td>\n",
              "      <td>3</td>\n",
              "      <td>3</td>\n",
              "      <td>1</td>\n",
              "      <td>1</td>\n",
              "    </tr>\n",
              "    <tr>\n",
              "      <th>1</th>\n",
              "      <td>67</td>\n",
              "      <td>0</td>\n",
              "      <td>3</td>\n",
              "      <td>115</td>\n",
              "      <td>564</td>\n",
              "      <td>0</td>\n",
              "      <td>2</td>\n",
              "      <td>160</td>\n",
              "      <td>0</td>\n",
              "      <td>1.6</td>\n",
              "      <td>2</td>\n",
              "      <td>0</td>\n",
              "      <td>7</td>\n",
              "      <td>0</td>\n",
              "      <td>0</td>\n",
              "    </tr>\n",
              "    <tr>\n",
              "      <th>2</th>\n",
              "      <td>57</td>\n",
              "      <td>1</td>\n",
              "      <td>2</td>\n",
              "      <td>124</td>\n",
              "      <td>261</td>\n",
              "      <td>0</td>\n",
              "      <td>0</td>\n",
              "      <td>141</td>\n",
              "      <td>0</td>\n",
              "      <td>0.3</td>\n",
              "      <td>1</td>\n",
              "      <td>0</td>\n",
              "      <td>7</td>\n",
              "      <td>1</td>\n",
              "      <td>1</td>\n",
              "    </tr>\n",
              "    <tr>\n",
              "      <th>3</th>\n",
              "      <td>64</td>\n",
              "      <td>1</td>\n",
              "      <td>4</td>\n",
              "      <td>128</td>\n",
              "      <td>263</td>\n",
              "      <td>0</td>\n",
              "      <td>0</td>\n",
              "      <td>105</td>\n",
              "      <td>1</td>\n",
              "      <td>0.2</td>\n",
              "      <td>2</td>\n",
              "      <td>1</td>\n",
              "      <td>7</td>\n",
              "      <td>0</td>\n",
              "      <td>1</td>\n",
              "    </tr>\n",
              "    <tr>\n",
              "      <th>4</th>\n",
              "      <td>74</td>\n",
              "      <td>0</td>\n",
              "      <td>2</td>\n",
              "      <td>120</td>\n",
              "      <td>269</td>\n",
              "      <td>0</td>\n",
              "      <td>2</td>\n",
              "      <td>121</td>\n",
              "      <td>1</td>\n",
              "      <td>0.2</td>\n",
              "      <td>1</td>\n",
              "      <td>1</td>\n",
              "      <td>3</td>\n",
              "      <td>0</td>\n",
              "      <td>0</td>\n",
              "    </tr>\n",
              "    <tr>\n",
              "      <th>5</th>\n",
              "      <td>65</td>\n",
              "      <td>1</td>\n",
              "      <td>4</td>\n",
              "      <td>120</td>\n",
              "      <td>177</td>\n",
              "      <td>0</td>\n",
              "      <td>0</td>\n",
              "      <td>140</td>\n",
              "      <td>0</td>\n",
              "      <td>0.4</td>\n",
              "      <td>1</td>\n",
              "      <td>0</td>\n",
              "      <td>7</td>\n",
              "      <td>0</td>\n",
              "      <td>0</td>\n",
              "    </tr>\n",
              "    <tr>\n",
              "      <th>6</th>\n",
              "      <td>56</td>\n",
              "      <td>1</td>\n",
              "      <td>3</td>\n",
              "      <td>130</td>\n",
              "      <td>256</td>\n",
              "      <td>1</td>\n",
              "      <td>2</td>\n",
              "      <td>142</td>\n",
              "      <td>1</td>\n",
              "      <td>0.6</td>\n",
              "      <td>2</td>\n",
              "      <td>1</td>\n",
              "      <td>6</td>\n",
              "      <td>1</td>\n",
              "      <td>1</td>\n",
              "    </tr>\n",
              "    <tr>\n",
              "      <th>7</th>\n",
              "      <td>59</td>\n",
              "      <td>1</td>\n",
              "      <td>4</td>\n",
              "      <td>110</td>\n",
              "      <td>239</td>\n",
              "      <td>0</td>\n",
              "      <td>2</td>\n",
              "      <td>142</td>\n",
              "      <td>1</td>\n",
              "      <td>1.2</td>\n",
              "      <td>2</td>\n",
              "      <td>1</td>\n",
              "      <td>7</td>\n",
              "      <td>1</td>\n",
              "      <td>1</td>\n",
              "    </tr>\n",
              "    <tr>\n",
              "      <th>8</th>\n",
              "      <td>60</td>\n",
              "      <td>1</td>\n",
              "      <td>4</td>\n",
              "      <td>140</td>\n",
              "      <td>293</td>\n",
              "      <td>0</td>\n",
              "      <td>2</td>\n",
              "      <td>170</td>\n",
              "      <td>0</td>\n",
              "      <td>1.2</td>\n",
              "      <td>2</td>\n",
              "      <td>2</td>\n",
              "      <td>7</td>\n",
              "      <td>1</td>\n",
              "      <td>1</td>\n",
              "    </tr>\n",
              "    <tr>\n",
              "      <th>9</th>\n",
              "      <td>63</td>\n",
              "      <td>0</td>\n",
              "      <td>4</td>\n",
              "      <td>150</td>\n",
              "      <td>407</td>\n",
              "      <td>0</td>\n",
              "      <td>2</td>\n",
              "      <td>154</td>\n",
              "      <td>0</td>\n",
              "      <td>4.0</td>\n",
              "      <td>2</td>\n",
              "      <td>3</td>\n",
              "      <td>7</td>\n",
              "      <td>1</td>\n",
              "      <td>1</td>\n",
              "    </tr>\n",
              "  </tbody>\n",
              "</table>\n",
              "</div>"
            ],
            "text/plain": [
              "   age  sex  chest  ...  thal  cardio  diabeties\n",
              "0   70    1      4  ...     3       1          1\n",
              "1   67    0      3  ...     7       0          0\n",
              "2   57    1      2  ...     7       1          1\n",
              "3   64    1      4  ...     7       0          1\n",
              "4   74    0      2  ...     3       0          0\n",
              "5   65    1      4  ...     7       0          0\n",
              "6   56    1      3  ...     6       1          1\n",
              "7   59    1      4  ...     7       1          1\n",
              "8   60    1      4  ...     7       1          1\n",
              "9   63    0      4  ...     7       1          1\n",
              "\n",
              "[10 rows x 15 columns]"
            ]
          },
          "metadata": {
            "tags": []
          },
          "execution_count": 62
        }
      ]
    },
    {
      "cell_type": "code",
      "metadata": {
        "colab": {
          "base_uri": "https://localhost:8080/"
        },
        "id": "srB1F-qR6cmk",
        "outputId": "4f5760d6-ed38-4fda-d678-736302c552d0"
      },
      "source": [
        "dataframe.isna().sum()"
      ],
      "execution_count": 63,
      "outputs": [
        {
          "output_type": "execute_result",
          "data": {
            "text/plain": [
              "age                                     0\n",
              "sex                                     0\n",
              "chest                                   0\n",
              "resting_blood_pressure                  0\n",
              "serum_cholestoral                       0\n",
              "fasting_blood_sugar                     0\n",
              "resting_electrocardiographic_results    0\n",
              "maximum_heart_rate_achieved             0\n",
              "exercise_induced_angina                 0\n",
              "oldpeak                                 0\n",
              "slope                                   0\n",
              "number_of_major_vessels                 0\n",
              "thal                                    0\n",
              "cardio                                  0\n",
              "diabeties                               0\n",
              "dtype: int64"
            ]
          },
          "metadata": {
            "tags": []
          },
          "execution_count": 63
        }
      ]
    },
    {
      "cell_type": "code",
      "metadata": {
        "colab": {
          "base_uri": "https://localhost:8080/"
        },
        "id": "LA5NOdnEB9BI",
        "outputId": "7fd3a95d-9458-4961-a8f2-6d4aeb806840"
      },
      "source": [
        "dataframe.isnull().values.any()"
      ],
      "execution_count": 64,
      "outputs": [
        {
          "output_type": "execute_result",
          "data": {
            "text/plain": [
              "False"
            ]
          },
          "metadata": {
            "tags": []
          },
          "execution_count": 64
        }
      ]
    },
    {
      "cell_type": "code",
      "metadata": {
        "colab": {
          "base_uri": "https://localhost:8080/"
        },
        "id": "LQo4zwhkCGx-",
        "outputId": "69c38560-2a1d-48cd-df8e-cf091dbacdfe"
      },
      "source": [
        "dataframe.shape"
      ],
      "execution_count": 65,
      "outputs": [
        {
          "output_type": "execute_result",
          "data": {
            "text/plain": [
              "(270, 15)"
            ]
          },
          "metadata": {
            "tags": []
          },
          "execution_count": 65
        }
      ]
    },
    {
      "cell_type": "markdown",
      "metadata": {
        "id": "DbxkxP0NCQOD"
      },
      "source": [
        "Generating basic statistics"
      ]
    },
    {
      "cell_type": "code",
      "metadata": {
        "colab": {
          "base_uri": "https://localhost:8080/",
          "height": 304
        },
        "id": "5LF-nCl_CK29",
        "outputId": "519551a6-8c22-4937-bde7-cdedc7eee064"
      },
      "source": [
        "dataframe.describe()"
      ],
      "execution_count": 66,
      "outputs": [
        {
          "output_type": "execute_result",
          "data": {
            "text/html": [
              "<div>\n",
              "<style scoped>\n",
              "    .dataframe tbody tr th:only-of-type {\n",
              "        vertical-align: middle;\n",
              "    }\n",
              "\n",
              "    .dataframe tbody tr th {\n",
              "        vertical-align: top;\n",
              "    }\n",
              "\n",
              "    .dataframe thead th {\n",
              "        text-align: right;\n",
              "    }\n",
              "</style>\n",
              "<table border=\"1\" class=\"dataframe\">\n",
              "  <thead>\n",
              "    <tr style=\"text-align: right;\">\n",
              "      <th></th>\n",
              "      <th>age</th>\n",
              "      <th>sex</th>\n",
              "      <th>chest</th>\n",
              "      <th>resting_blood_pressure</th>\n",
              "      <th>serum_cholestoral</th>\n",
              "      <th>fasting_blood_sugar</th>\n",
              "      <th>resting_electrocardiographic_results</th>\n",
              "      <th>maximum_heart_rate_achieved</th>\n",
              "      <th>exercise_induced_angina</th>\n",
              "      <th>oldpeak</th>\n",
              "      <th>slope</th>\n",
              "      <th>number_of_major_vessels</th>\n",
              "      <th>thal</th>\n",
              "      <th>cardio</th>\n",
              "      <th>diabeties</th>\n",
              "    </tr>\n",
              "  </thead>\n",
              "  <tbody>\n",
              "    <tr>\n",
              "      <th>count</th>\n",
              "      <td>270.000000</td>\n",
              "      <td>270.000000</td>\n",
              "      <td>270.000000</td>\n",
              "      <td>270.000000</td>\n",
              "      <td>270.000000</td>\n",
              "      <td>270.000000</td>\n",
              "      <td>270.000000</td>\n",
              "      <td>270.000000</td>\n",
              "      <td>270.000000</td>\n",
              "      <td>270.00000</td>\n",
              "      <td>270.000000</td>\n",
              "      <td>270.000000</td>\n",
              "      <td>270.000000</td>\n",
              "      <td>270.000000</td>\n",
              "      <td>270.000000</td>\n",
              "    </tr>\n",
              "    <tr>\n",
              "      <th>mean</th>\n",
              "      <td>54.433333</td>\n",
              "      <td>0.677778</td>\n",
              "      <td>3.174074</td>\n",
              "      <td>131.344444</td>\n",
              "      <td>249.659259</td>\n",
              "      <td>0.148148</td>\n",
              "      <td>1.022222</td>\n",
              "      <td>149.677778</td>\n",
              "      <td>0.329630</td>\n",
              "      <td>1.05000</td>\n",
              "      <td>1.585185</td>\n",
              "      <td>0.670370</td>\n",
              "      <td>4.696296</td>\n",
              "      <td>0.444444</td>\n",
              "      <td>0.414815</td>\n",
              "    </tr>\n",
              "    <tr>\n",
              "      <th>std</th>\n",
              "      <td>9.109067</td>\n",
              "      <td>0.468195</td>\n",
              "      <td>0.950090</td>\n",
              "      <td>17.861608</td>\n",
              "      <td>51.686237</td>\n",
              "      <td>0.355906</td>\n",
              "      <td>0.997891</td>\n",
              "      <td>23.165717</td>\n",
              "      <td>0.470952</td>\n",
              "      <td>1.14521</td>\n",
              "      <td>0.614390</td>\n",
              "      <td>0.943896</td>\n",
              "      <td>1.940659</td>\n",
              "      <td>0.497827</td>\n",
              "      <td>0.493605</td>\n",
              "    </tr>\n",
              "    <tr>\n",
              "      <th>min</th>\n",
              "      <td>29.000000</td>\n",
              "      <td>0.000000</td>\n",
              "      <td>1.000000</td>\n",
              "      <td>94.000000</td>\n",
              "      <td>126.000000</td>\n",
              "      <td>0.000000</td>\n",
              "      <td>0.000000</td>\n",
              "      <td>71.000000</td>\n",
              "      <td>0.000000</td>\n",
              "      <td>0.00000</td>\n",
              "      <td>1.000000</td>\n",
              "      <td>0.000000</td>\n",
              "      <td>3.000000</td>\n",
              "      <td>0.000000</td>\n",
              "      <td>0.000000</td>\n",
              "    </tr>\n",
              "    <tr>\n",
              "      <th>25%</th>\n",
              "      <td>48.000000</td>\n",
              "      <td>0.000000</td>\n",
              "      <td>3.000000</td>\n",
              "      <td>120.000000</td>\n",
              "      <td>213.000000</td>\n",
              "      <td>0.000000</td>\n",
              "      <td>0.000000</td>\n",
              "      <td>133.000000</td>\n",
              "      <td>0.000000</td>\n",
              "      <td>0.00000</td>\n",
              "      <td>1.000000</td>\n",
              "      <td>0.000000</td>\n",
              "      <td>3.000000</td>\n",
              "      <td>0.000000</td>\n",
              "      <td>0.000000</td>\n",
              "    </tr>\n",
              "    <tr>\n",
              "      <th>50%</th>\n",
              "      <td>55.000000</td>\n",
              "      <td>1.000000</td>\n",
              "      <td>3.000000</td>\n",
              "      <td>130.000000</td>\n",
              "      <td>245.000000</td>\n",
              "      <td>0.000000</td>\n",
              "      <td>2.000000</td>\n",
              "      <td>153.500000</td>\n",
              "      <td>0.000000</td>\n",
              "      <td>0.80000</td>\n",
              "      <td>2.000000</td>\n",
              "      <td>0.000000</td>\n",
              "      <td>3.000000</td>\n",
              "      <td>0.000000</td>\n",
              "      <td>0.000000</td>\n",
              "    </tr>\n",
              "    <tr>\n",
              "      <th>75%</th>\n",
              "      <td>61.000000</td>\n",
              "      <td>1.000000</td>\n",
              "      <td>4.000000</td>\n",
              "      <td>140.000000</td>\n",
              "      <td>280.000000</td>\n",
              "      <td>0.000000</td>\n",
              "      <td>2.000000</td>\n",
              "      <td>166.000000</td>\n",
              "      <td>1.000000</td>\n",
              "      <td>1.60000</td>\n",
              "      <td>2.000000</td>\n",
              "      <td>1.000000</td>\n",
              "      <td>7.000000</td>\n",
              "      <td>1.000000</td>\n",
              "      <td>1.000000</td>\n",
              "    </tr>\n",
              "    <tr>\n",
              "      <th>max</th>\n",
              "      <td>77.000000</td>\n",
              "      <td>1.000000</td>\n",
              "      <td>4.000000</td>\n",
              "      <td>200.000000</td>\n",
              "      <td>564.000000</td>\n",
              "      <td>1.000000</td>\n",
              "      <td>2.000000</td>\n",
              "      <td>202.000000</td>\n",
              "      <td>1.000000</td>\n",
              "      <td>6.20000</td>\n",
              "      <td>3.000000</td>\n",
              "      <td>3.000000</td>\n",
              "      <td>7.000000</td>\n",
              "      <td>1.000000</td>\n",
              "      <td>1.000000</td>\n",
              "    </tr>\n",
              "  </tbody>\n",
              "</table>\n",
              "</div>"
            ],
            "text/plain": [
              "              age         sex       chest  ...        thal      cardio   diabeties\n",
              "count  270.000000  270.000000  270.000000  ...  270.000000  270.000000  270.000000\n",
              "mean    54.433333    0.677778    3.174074  ...    4.696296    0.444444    0.414815\n",
              "std      9.109067    0.468195    0.950090  ...    1.940659    0.497827    0.493605\n",
              "min     29.000000    0.000000    1.000000  ...    3.000000    0.000000    0.000000\n",
              "25%     48.000000    0.000000    3.000000  ...    3.000000    0.000000    0.000000\n",
              "50%     55.000000    1.000000    3.000000  ...    3.000000    0.000000    0.000000\n",
              "75%     61.000000    1.000000    4.000000  ...    7.000000    1.000000    1.000000\n",
              "max     77.000000    1.000000    4.000000  ...    7.000000    1.000000    1.000000\n",
              "\n",
              "[8 rows x 15 columns]"
            ]
          },
          "metadata": {
            "tags": []
          },
          "execution_count": 66
        }
      ]
    },
    {
      "cell_type": "markdown",
      "metadata": {
        "id": "2fjxkX2hDAne"
      },
      "source": [
        "bn"
      ]
    },
    {
      "cell_type": "code",
      "metadata": {
        "colab": {
          "base_uri": "https://localhost:8080/"
        },
        "id": "npapkmhTDbK7",
        "outputId": "4afb8f2c-fbf7-45cc-8f48-428c8a5f9bd8"
      },
      "source": [
        "dataframe['cardio'].value_counts()"
      ],
      "execution_count": 67,
      "outputs": [
        {
          "output_type": "execute_result",
          "data": {
            "text/plain": [
              "0    150\n",
              "1    120\n",
              "Name: cardio, dtype: int64"
            ]
          },
          "metadata": {
            "tags": []
          },
          "execution_count": 67
        }
      ]
    },
    {
      "cell_type": "markdown",
      "metadata": {
        "id": "3T15ZdGiDqz5"
      },
      "source": [
        "According to the dataset there are 120 people out of 270 having cardiovascular disease"
      ]
    },
    {
      "cell_type": "code",
      "metadata": {
        "colab": {
          "base_uri": "https://localhost:8080/",
          "height": 350
        },
        "id": "nHf19kk7DCJI",
        "outputId": "f3474daf-de30-4f11-bcc1-faa6b4236776"
      },
      "source": [
        "sb.countplot(dataframe['cardio'])"
      ],
      "execution_count": 68,
      "outputs": [
        {
          "output_type": "stream",
          "text": [
            "/usr/local/lib/python3.7/dist-packages/seaborn/_decorators.py:43: FutureWarning: Pass the following variable as a keyword arg: x. From version 0.12, the only valid positional argument will be `data`, and passing other arguments without an explicit keyword will result in an error or misinterpretation.\n",
            "  FutureWarning\n"
          ],
          "name": "stderr"
        },
        {
          "output_type": "execute_result",
          "data": {
            "text/plain": [
              "<matplotlib.axes._subplots.AxesSubplot at 0x7f9d8df7ff90>"
            ]
          },
          "metadata": {
            "tags": []
          },
          "execution_count": 68
        },
        {
          "output_type": "display_data",
          "data": {
            "image/png": "[encoded data removed]",
            "text/plain": [
              "<Figure size 432x288 with 1 Axes>"
            ]
          },
          "metadata": {
            "tags": [],
            "needs_background": "light"
          }
        }
      ]
    },
    {
      "cell_type": "code",
      "metadata": {
        "colab": {
          "base_uri": "https://localhost:8080/",
          "height": 405
        },
        "id": "H9KaPCUFDYj2",
        "outputId": "a1963174-ba53-443d-dd6a-fa553f46eb69"
      },
      "source": [
        "pt.figure(figsize=(12,6))\n",
        "sb.countplot(x='age',hue='cardio',data=dataframe,palette='colorblind', edgecolor=sb.color_palette('dark',n_colors=1))"
      ],
      "execution_count": 69,
      "outputs": [
        {
          "output_type": "execute_result",
          "data": {
            "text/plain": [
              "<matplotlib.axes._subplots.AxesSubplot at 0x7f9d8df45f10>"
            ]
          },
          "metadata": {
            "tags": []
          },
          "execution_count": 69
        },
        {
          "output_type": "display_data",
          "data": {
            "image/png": "[encoded data removed]",
            "text/plain": [
              "<Figure size 864x432 with 1 Axes>"
            ]
          },
          "metadata": {
            "tags": [],
            "needs_background": "light"
          }
        }
      ]
    },
    {
      "cell_type": "markdown",
      "metadata": {
        "id": "ShYfTK88MwEU"
      },
      "source": [
        "Here, we can clearly see that increase risk to cardiovascular disease is after age of 55\n"
      ]
    },
    {
      "cell_type": "code",
      "metadata": {
        "colab": {
          "base_uri": "https://localhost:8080/",
          "height": 511
        },
        "id": "DFZpZz-YNBNt",
        "outputId": "c4aa1622-edae-4b42-cc1a-afc28f77bc07"
      },
      "source": [
        "dataframe.corr()"
      ],
      "execution_count": 70,
      "outputs": [
        {
          "output_type": "execute_result",
          "data": {
            "text/html": [
              "<div>\n",
              "<style scoped>\n",
              "    .dataframe tbody tr th:only-of-type {\n",
              "        vertical-align: middle;\n",
              "    }\n",
              "\n",
              "    .dataframe tbody tr th {\n",
              "        vertical-align: top;\n",
              "    }\n",
              "\n",
              "    .dataframe thead th {\n",
              "        text-align: right;\n",
              "    }\n",
              "</style>\n",
              "<table border=\"1\" class=\"dataframe\">\n",
              "  <thead>\n",
              "    <tr style=\"text-align: right;\">\n",
              "      <th></th>\n",
              "      <th>age</th>\n",
              "      <th>sex</th>\n",
              "      <th>chest</th>\n",
              "      <th>resting_blood_pressure</th>\n",
              "      <th>serum_cholestoral</th>\n",
              "      <th>fasting_blood_sugar</th>\n",
              "      <th>resting_electrocardiographic_results</th>\n",
              "      <th>maximum_heart_rate_achieved</th>\n",
              "      <th>exercise_induced_angina</th>\n",
              "      <th>oldpeak</th>\n",
              "      <th>slope</th>\n",
              "      <th>number_of_major_vessels</th>\n",
              "      <th>thal</th>\n",
              "      <th>cardio</th>\n",
              "      <th>diabeties</th>\n",
              "    </tr>\n",
              "  </thead>\n",
              "  <tbody>\n",
              "    <tr>\n",
              "      <th>age</th>\n",
              "      <td>1.000000</td>\n",
              "      <td>-0.094401</td>\n",
              "      <td>0.096920</td>\n",
              "      <td>0.273053</td>\n",
              "      <td>0.220056</td>\n",
              "      <td>0.123458</td>\n",
              "      <td>0.128171</td>\n",
              "      <td>-0.402215</td>\n",
              "      <td>0.098297</td>\n",
              "      <td>0.194234</td>\n",
              "      <td>0.159774</td>\n",
              "      <td>0.356081</td>\n",
              "      <td>0.106100</td>\n",
              "      <td>0.212322</td>\n",
              "      <td>0.193028</td>\n",
              "    </tr>\n",
              "    <tr>\n",
              "      <th>sex</th>\n",
              "      <td>-0.094401</td>\n",
              "      <td>1.000000</td>\n",
              "      <td>0.034636</td>\n",
              "      <td>-0.062693</td>\n",
              "      <td>-0.201647</td>\n",
              "      <td>0.042140</td>\n",
              "      <td>0.039253</td>\n",
              "      <td>-0.076101</td>\n",
              "      <td>0.180022</td>\n",
              "      <td>0.097412</td>\n",
              "      <td>0.050545</td>\n",
              "      <td>0.086830</td>\n",
              "      <td>0.391046</td>\n",
              "      <td>0.297721</td>\n",
              "      <td>0.242716</td>\n",
              "    </tr>\n",
              "    <tr>\n",
              "      <th>chest</th>\n",
              "      <td>0.096920</td>\n",
              "      <td>0.034636</td>\n",
              "      <td>1.000000</td>\n",
              "      <td>-0.043196</td>\n",
              "      <td>0.090465</td>\n",
              "      <td>-0.098537</td>\n",
              "      <td>0.074325</td>\n",
              "      <td>-0.317682</td>\n",
              "      <td>0.353160</td>\n",
              "      <td>0.167244</td>\n",
              "      <td>0.136900</td>\n",
              "      <td>0.225890</td>\n",
              "      <td>0.262659</td>\n",
              "      <td>0.417436</td>\n",
              "      <td>0.392411</td>\n",
              "    </tr>\n",
              "    <tr>\n",
              "      <th>resting_blood_pressure</th>\n",
              "      <td>0.273053</td>\n",
              "      <td>-0.062693</td>\n",
              "      <td>-0.043196</td>\n",
              "      <td>1.000000</td>\n",
              "      <td>0.173019</td>\n",
              "      <td>0.155681</td>\n",
              "      <td>0.116157</td>\n",
              "      <td>-0.039136</td>\n",
              "      <td>0.082793</td>\n",
              "      <td>0.222800</td>\n",
              "      <td>0.142472</td>\n",
              "      <td>0.085697</td>\n",
              "      <td>0.132045</td>\n",
              "      <td>0.155383</td>\n",
              "      <td>0.134683</td>\n",
              "    </tr>\n",
              "    <tr>\n",
              "      <th>serum_cholestoral</th>\n",
              "      <td>0.220056</td>\n",
              "      <td>-0.201647</td>\n",
              "      <td>0.090465</td>\n",
              "      <td>0.173019</td>\n",
              "      <td>1.000000</td>\n",
              "      <td>0.025186</td>\n",
              "      <td>0.167652</td>\n",
              "      <td>-0.018739</td>\n",
              "      <td>0.078243</td>\n",
              "      <td>0.027709</td>\n",
              "      <td>-0.005755</td>\n",
              "      <td>0.126541</td>\n",
              "      <td>0.028836</td>\n",
              "      <td>0.118021</td>\n",
              "      <td>0.080602</td>\n",
              "    </tr>\n",
              "    <tr>\n",
              "      <th>fasting_blood_sugar</th>\n",
              "      <td>0.123458</td>\n",
              "      <td>0.042140</td>\n",
              "      <td>-0.098537</td>\n",
              "      <td>0.155681</td>\n",
              "      <td>0.025186</td>\n",
              "      <td>1.000000</td>\n",
              "      <td>0.053499</td>\n",
              "      <td>0.022494</td>\n",
              "      <td>-0.004107</td>\n",
              "      <td>-0.025538</td>\n",
              "      <td>0.044076</td>\n",
              "      <td>0.123774</td>\n",
              "      <td>0.049237</td>\n",
              "      <td>-0.016319</td>\n",
              "      <td>-0.033701</td>\n",
              "    </tr>\n",
              "    <tr>\n",
              "      <th>resting_electrocardiographic_results</th>\n",
              "      <td>0.128171</td>\n",
              "      <td>0.039253</td>\n",
              "      <td>0.074325</td>\n",
              "      <td>0.116157</td>\n",
              "      <td>0.167652</td>\n",
              "      <td>0.053499</td>\n",
              "      <td>1.000000</td>\n",
              "      <td>-0.074628</td>\n",
              "      <td>0.095098</td>\n",
              "      <td>0.120034</td>\n",
              "      <td>0.160614</td>\n",
              "      <td>0.114368</td>\n",
              "      <td>0.007337</td>\n",
              "      <td>0.182091</td>\n",
              "      <td>0.154801</td>\n",
              "    </tr>\n",
              "    <tr>\n",
              "      <th>maximum_heart_rate_achieved</th>\n",
              "      <td>-0.402215</td>\n",
              "      <td>-0.076101</td>\n",
              "      <td>-0.317682</td>\n",
              "      <td>-0.039136</td>\n",
              "      <td>-0.018739</td>\n",
              "      <td>0.022494</td>\n",
              "      <td>-0.074628</td>\n",
              "      <td>1.000000</td>\n",
              "      <td>-0.380719</td>\n",
              "      <td>-0.349045</td>\n",
              "      <td>-0.386847</td>\n",
              "      <td>-0.265333</td>\n",
              "      <td>-0.253397</td>\n",
              "      <td>-0.418514</td>\n",
              "      <td>-0.392372</td>\n",
              "    </tr>\n",
              "    <tr>\n",
              "      <th>exercise_induced_angina</th>\n",
              "      <td>0.098297</td>\n",
              "      <td>0.180022</td>\n",
              "      <td>0.353160</td>\n",
              "      <td>0.082793</td>\n",
              "      <td>0.078243</td>\n",
              "      <td>-0.004107</td>\n",
              "      <td>0.095098</td>\n",
              "      <td>-0.380719</td>\n",
              "      <td>1.000000</td>\n",
              "      <td>0.274672</td>\n",
              "      <td>0.255908</td>\n",
              "      <td>0.153347</td>\n",
              "      <td>0.321449</td>\n",
              "      <td>0.419303</td>\n",
              "      <td>0.385101</td>\n",
              "    </tr>\n",
              "    <tr>\n",
              "      <th>oldpeak</th>\n",
              "      <td>0.194234</td>\n",
              "      <td>0.097412</td>\n",
              "      <td>0.167244</td>\n",
              "      <td>0.222800</td>\n",
              "      <td>0.027709</td>\n",
              "      <td>-0.025538</td>\n",
              "      <td>0.120034</td>\n",
              "      <td>-0.349045</td>\n",
              "      <td>0.274672</td>\n",
              "      <td>1.000000</td>\n",
              "      <td>0.609712</td>\n",
              "      <td>0.255005</td>\n",
              "      <td>0.324333</td>\n",
              "      <td>0.417967</td>\n",
              "      <td>0.359067</td>\n",
              "    </tr>\n",
              "    <tr>\n",
              "      <th>slope</th>\n",
              "      <td>0.159774</td>\n",
              "      <td>0.050545</td>\n",
              "      <td>0.136900</td>\n",
              "      <td>0.142472</td>\n",
              "      <td>-0.005755</td>\n",
              "      <td>0.044076</td>\n",
              "      <td>0.160614</td>\n",
              "      <td>-0.386847</td>\n",
              "      <td>0.255908</td>\n",
              "      <td>0.609712</td>\n",
              "      <td>1.000000</td>\n",
              "      <td>0.109498</td>\n",
              "      <td>0.283678</td>\n",
              "      <td>0.337616</td>\n",
              "      <td>0.299825</td>\n",
              "    </tr>\n",
              "    <tr>\n",
              "      <th>number_of_major_vessels</th>\n",
              "      <td>0.356081</td>\n",
              "      <td>0.086830</td>\n",
              "      <td>0.225890</td>\n",
              "      <td>0.085697</td>\n",
              "      <td>0.126541</td>\n",
              "      <td>0.123774</td>\n",
              "      <td>0.114368</td>\n",
              "      <td>-0.265333</td>\n",
              "      <td>0.153347</td>\n",
              "      <td>0.255005</td>\n",
              "      <td>0.109498</td>\n",
              "      <td>1.000000</td>\n",
              "      <td>0.255648</td>\n",
              "      <td>0.455336</td>\n",
              "      <td>0.398296</td>\n",
              "    </tr>\n",
              "    <tr>\n",
              "      <th>thal</th>\n",
              "      <td>0.106100</td>\n",
              "      <td>0.391046</td>\n",
              "      <td>0.262659</td>\n",
              "      <td>0.132045</td>\n",
              "      <td>0.028836</td>\n",
              "      <td>0.049237</td>\n",
              "      <td>0.007337</td>\n",
              "      <td>-0.253397</td>\n",
              "      <td>0.321449</td>\n",
              "      <td>0.324333</td>\n",
              "      <td>0.283678</td>\n",
              "      <td>0.255648</td>\n",
              "      <td>1.000000</td>\n",
              "      <td>0.525020</td>\n",
              "      <td>0.504559</td>\n",
              "    </tr>\n",
              "    <tr>\n",
              "      <th>cardio</th>\n",
              "      <td>0.212322</td>\n",
              "      <td>0.297721</td>\n",
              "      <td>0.417436</td>\n",
              "      <td>0.155383</td>\n",
              "      <td>0.118021</td>\n",
              "      <td>-0.016319</td>\n",
              "      <td>0.182091</td>\n",
              "      <td>-0.418514</td>\n",
              "      <td>0.419303</td>\n",
              "      <td>0.417967</td>\n",
              "      <td>0.337616</td>\n",
              "      <td>0.455336</td>\n",
              "      <td>0.525020</td>\n",
              "      <td>1.000000</td>\n",
              "      <td>0.895931</td>\n",
              "    </tr>\n",
              "    <tr>\n",
              "      <th>diabeties</th>\n",
              "      <td>0.193028</td>\n",
              "      <td>0.242716</td>\n",
              "      <td>0.392411</td>\n",
              "      <td>0.134683</td>\n",
              "      <td>0.080602</td>\n",
              "      <td>-0.033701</td>\n",
              "      <td>0.154801</td>\n",
              "      <td>-0.392372</td>\n",
              "      <td>0.385101</td>\n",
              "      <td>0.359067</td>\n",
              "      <td>0.299825</td>\n",
              "      <td>0.398296</td>\n",
              "      <td>0.504559</td>\n",
              "      <td>0.895931</td>\n",
              "      <td>1.000000</td>\n",
              "    </tr>\n",
              "  </tbody>\n",
              "</table>\n",
              "</div>"
            ],
            "text/plain": [
              "                                           age       sex  ...    cardio  diabeties\n",
              "age                                   1.000000 -0.094401  ...  0.212322   0.193028\n",
              "sex                                  -0.094401  1.000000  ...  0.297721   0.242716\n",
              "chest                                 0.096920  0.034636  ...  0.417436   0.392411\n",
              "resting_blood_pressure                0.273053 -0.062693  ...  0.155383   0.134683\n",
              "serum_cholestoral                     0.220056 -0.201647  ...  0.118021   0.080602\n",
              "fasting_blood_sugar                   0.123458  0.042140  ... -0.016319  -0.033701\n",
              "resting_electrocardiographic_results  0.128171  0.039253  ...  0.182091   0.154801\n",
              "maximum_heart_rate_achieved          -0.402215 -0.076101  ... -0.418514  -0.392372\n",
              "exercise_induced_angina               0.098297  0.180022  ...  0.419303   0.385101\n",
              "oldpeak                               0.194234  0.097412  ...  0.417967   0.359067\n",
              "slope                                 0.159774  0.050545  ...  0.337616   0.299825\n",
              "number_of_major_vessels               0.356081  0.086830  ...  0.455336   0.398296\n",
              "thal                                  0.106100  0.391046  ...  0.525020   0.504559\n",
              "cardio                                0.212322  0.297721  ...  1.000000   0.895931\n",
              "diabeties                             0.193028  0.242716  ...  0.895931   1.000000\n",
              "\n",
              "[15 rows x 15 columns]"
            ]
          },
          "metadata": {
            "tags": []
          },
          "execution_count": 70
        }
      ]
    },
    {
      "cell_type": "code",
      "metadata": {
        "colab": {
          "base_uri": "https://localhost:8080/",
          "height": 675
        },
        "id": "I8HPr_f1PWE_",
        "outputId": "f8b2ab83-b97e-47d2-f1ef-5ac115249126"
      },
      "source": [
        "pt.figure(figsize=(12,8))\n",
        "sb.heatmap(dataframe.corr(),annot=True,fmt='.0%')"
      ],
      "execution_count": 71,
      "outputs": [
        {
          "output_type": "execute_result",
          "data": {
            "text/plain": [
              "<matplotlib.axes._subplots.AxesSubplot at 0x7f9d8df08e50>"
            ]
          },
          "metadata": {
            "tags": []
          },
          "execution_count": 71
        },
        {
          "output_type": "display_data",
          "data": {
            "image/png": "[encoded data removed]",
            "text/plain": [
              "<Figure size 864x576 with 2 Axes>"
            ]
          },
          "metadata": {
            "tags": [],
            "needs_background": "light"
          }
        }
      ]
    },
    {
      "cell_type": "markdown",
      "metadata": {
        "id": "7BhG4MYYSkbC"
      },
      "source": [
        "Risk of having cardiovascular diseases is affected by factors such as Diabetes (90%) , Thallium Stress (53%) , Chest Pain (42%), \n",
        "Sex (30%) (since men are more prone to such diseases,However women mainly have it after menopause), \n",
        "Age (21%) (as we have seen after 55 yrs of age people are more prone).\n",
        "Cholestoral (12%)"
      ]
    }
  ]
}